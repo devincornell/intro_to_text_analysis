{
 "cells": [
  {
   "cell_type": "code",
   "execution_count": 23,
   "metadata": {},
   "outputs": [],
   "source": [
    "import spacy\n",
    "from collections import Counter\n",
    "import networkx as nx\n",
    "nlp = spacy.load('en')"
   ]
  },
  {
   "cell_type": "code",
   "execution_count": 2,
   "metadata": {},
   "outputs": [
    {
     "data": {
      "text/plain": [
       "(550, 400, 150)"
      ]
     },
     "execution_count": 2,
     "metadata": {},
     "output_type": "execute_result"
    }
   ],
   "source": [
    "def read_paragraphs(fname):\n",
    "    with open(fname, 'r') as f:\n",
    "        text = f.read()\n",
    "    paragraphs = [p for p in text.split('\\n\\n') if len(p) > 0]\n",
    "    return paragraphs\n",
    "\n",
    "trump_par_texts = read_paragraphs('nss/trump_nss.txt')\n",
    "obama_par_texts = read_paragraphs('nss/obama_nss.txt')\n",
    "par_texts = trump_par_texts + obama_par_texts\n",
    "k = len(trump_par_texts)\n",
    "len(par_texts), len(trump_par_texts), len(obama_par_texts)"
   ]
  },
  {
   "cell_type": "markdown",
   "metadata": {},
   "source": [
    "## Extract Subject-Verb-Object Triplets"
   ]
  },
  {
   "cell_type": "code",
   "execution_count": 38,
   "metadata": {},
   "outputs": [
    {
     "name": "stdout",
     "output_type": "stream",
     "text": [
      "1066\n"
     ]
    },
    {
     "data": {
      "text/plain": [
       "[(('America', 'subj'), ('is', 'verb')),\n",
       " (('America', 'subj'), ('is', 'verb')),\n",
       " (('puts', 'verb'), ('America', 'obj'))]"
      ]
     },
     "execution_count": 38,
     "metadata": {},
     "output_type": "execute_result"
    }
   ],
   "source": [
    "def noun_verb_pairs(doc):\n",
    "    nounverbs = list()\n",
    "    for tok in doc:\n",
    "        if tok.dep_ == 'ROOT':\n",
    "            rel = (child_dep(tok,'nsubj'), tok, child_dep(tok,'dobj'))\n",
    "            nounverbs.append(rel)\n",
    "    return nounverbs\n",
    "\n",
    "def child_dep(tok, dep): # gets first child where child.dep_==dep.\n",
    "    for c in tok.children:\n",
    "        if c.dep_ == dep:\n",
    "            return c\n",
    "    return None\n",
    "\n",
    "def get_actor_rels(par_texts):\n",
    "    actor_rels = list()\n",
    "    for doc in nlp.pipe(par_texts):\n",
    "        for subj, verb, obj in noun_verb_pairs(doc):\n",
    "            if subj is not None and subj.ent_type_ != '':\n",
    "                actor_rels.append( ((subj.text,'subj'), (verb.text,'verb')) )\n",
    "            if obj is not None:\n",
    "                actor_rels.append( ((verb.text,'verb'), (obj.text,'obj')) )\n",
    "    return actor_rels\n",
    "print(len(actor_rels))\n",
    "actor_rels[:3]"
   ]
  },
  {
   "cell_type": "markdown",
   "metadata": {},
   "source": [
    "## Create Network From Relations\n",
    "Here we use the networx directed graph class we create a node for each subject and object, then remove nodes (along with their edges) that don't appear more than once."
   ]
  },
  {
   "cell_type": "code",
   "execution_count": 54,
   "metadata": {},
   "outputs": [
    {
     "data": {
      "text/plain": [
       "(65, 97)"
      ]
     },
     "execution_count": 54,
     "metadata": {},
     "output_type": "execute_result"
    }
   ],
   "source": [
    "def make_actor_network(actor_rels, min_node_ct=5):\n",
    "    # create network according to actor relations\n",
    "    G = nx.DiGraph()\n",
    "    for fro, to in actor_rels:\n",
    "        if fro[0] not in G.nodes():\n",
    "            G.add_node(fro[0], typ=fro[1], ct=0)\n",
    "        if to[0] not in G.nodes():\n",
    "            G.add_node(to[0], typ=to[1], ct=0)\n",
    "        edge = (fro[0],to[0])\n",
    "        if edge not in G.edges():\n",
    "            G.nodes[to[0]]['ct'] += 1\n",
    "            G.nodes[fro[0]]['ct'] += 1\n",
    "            G.add_edge(*edge, weight=0)\n",
    "        G[edge[0]][edge[1]]['weight'] += 1\n",
    "        \n",
    "    # remove nodes that don't meet minimum count threshold\n",
    "    rm_nodes = list()\n",
    "    for n in G.nodes():\n",
    "        if G.nodes[n]['ct'] < min_node_ct:\n",
    "            rm_nodes.append(n)\n",
    "    G.remove_nodes_from(rm_nodes)\n",
    "    len(rm_nodes), len(G.nodes())\n",
    "        \n",
    "    return G\n",
    "len(G.nodes()), len(G.edges())"
   ]
  },
  {
   "cell_type": "code",
   "execution_count": 53,
   "metadata": {},
   "outputs": [
    {
     "data": {
      "text/plain": [
       "(0, 65)"
      ]
     },
     "execution_count": 53,
     "metadata": {},
     "output_type": "execute_result"
    }
   ],
   "source": []
  },
  {
   "cell_type": "code",
   "execution_count": null,
   "metadata": {},
   "outputs": [],
   "source": []
  }
 ],
 "metadata": {
  "kernelspec": {
   "display_name": "Python 3",
   "language": "python",
   "name": "python3"
  },
  "language_info": {
   "codemirror_mode": {
    "name": "ipython",
    "version": 3
   },
   "file_extension": ".py",
   "mimetype": "text/x-python",
   "name": "python",
   "nbconvert_exporter": "python",
   "pygments_lexer": "ipython3",
   "version": "3.6.9"
  }
 },
 "nbformat": 4,
 "nbformat_minor": 4
}
