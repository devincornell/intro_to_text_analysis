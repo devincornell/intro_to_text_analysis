{
 "cells": [
  {
   "cell_type": "code",
   "execution_count": 1,
   "metadata": {},
   "outputs": [],
   "source": [
    "import parse, textfields\n",
    "import spacy\n",
    "import numpy as np\n",
    "nlp = spacy.load('en')"
   ]
  },
  {
   "cell_type": "code",
   "execution_count": 2,
   "metadata": {},
   "outputs": [
    {
     "data": {
      "text/plain": [
       "(550, 400, 150)"
      ]
     },
     "execution_count": 2,
     "metadata": {},
     "output_type": "execute_result"
    }
   ],
   "source": [
    "trump_par_texts = parse.read_paragraphs('nss/trump_nss.txt')\n",
    "obama_par_texts = parse.read_paragraphs('nss/obama_nss.txt')\n",
    "par_texts = trump_par_texts + obama_par_texts\n",
    "k = len(trump_par_texts)\n",
    "len(par_texts), len(trump_par_texts), len(obama_par_texts)"
   ]
  },
  {
   "cell_type": "code",
   "execution_count": 3,
   "metadata": {},
   "outputs": [
    {
     "data": {
      "text/plain": [
       "((460, 2287), 460, 460)"
      ]
     },
     "execution_count": 3,
     "metadata": {},
     "output_type": "execute_result"
    }
   ],
   "source": [
    "tokenized_pars = [parse.parse_doc(par) for par in nlp.pipe(par_texts)]\n",
    "BOW, vocab, zerosel = parse.make_bow_matrix(tokenized_pars, min_df=2, min_doc_wordcount=5)\n",
    "zeroind = np.argwhere(zerosel)[:,0]\n",
    "par_texts = [pt for i,pt in enumerate(par_texts) if i not in zeroind]\n",
    "tokenized_pars = [pt for i,pt in enumerate(tokenized_pars) if i not in zeroind]\n",
    "BOW.shape, len(par_texts), len(tokenized_pars)"
   ]
  },
  {
   "cell_type": "code",
   "execution_count": 4,
   "metadata": {},
   "outputs": [
    {
     "name": "stdout",
     "output_type": "stream",
     "text": [
      "[\"'s\", '(', ')', ',', '-']\n"
     ]
    },
    {
     "data": {
      "text/plain": [
       "array([[0, 0, 0, 6, 0],\n",
       "       [0, 0, 0, 3, 0],\n",
       "       [0, 0, 0, 0, 0],\n",
       "       [0, 0, 0, 6, 1],\n",
       "       [0, 0, 0, 0, 0]])"
      ]
     },
     "execution_count": 4,
     "metadata": {},
     "output_type": "execute_result"
    }
   ],
   "source": [
    "print(vocab[:5])\n",
    "BOW[:5,:5]"
   ]
  },
  {
   "cell_type": "code",
   "execution_count": 5,
   "metadata": {},
   "outputs": [
    {
     "data": {
      "text/plain": [
       "((460, 2287), (460, 100))"
      ]
     },
     "execution_count": 5,
     "metadata": {},
     "output_type": "execute_result"
    }
   ],
   "source": [
    "PPMI = textfields.calc_ppmi(BOW)\n",
    "#print(PPMI[:100,:5])\n",
    "SVD = textfields.calc_svd(PPMI, 100)\n",
    "#SVD = SVD - SVD.mean(axis=0) # center\n",
    "#print(SVD[:100])\n",
    "#SVD = SVD / np.linalg.norm(SVD, axis=1)[:,np.newaxis] # normalize\n",
    "PPMI.shape, SVD.shape"
   ]
  },
  {
   "cell_type": "code",
   "execution_count": 7,
   "metadata": {},
   "outputs": [
    {
     "name": "stdout",
     "output_type": "stream",
     "text": [
      "correlation of word freq with distance: 0.8845087243342714\n",
      "norm of mean: 24.77995947763479\n"
     ]
    }
   ],
   "source": [
    "dists = SVD.dot(SVD.T).sum(axis=1)\n",
    "par_lens = np.array([len(toks) for toks in tokenized_pars])\n",
    "print('correlation of word freq with distance:', np.corrcoef(par_lens, dists)[0,1])\n",
    "print('norm of mean:', np.linalg.norm(SVD.mean(axis=0)))"
   ]
  }
 ],
 "metadata": {
  "kernelspec": {
   "display_name": "Python 3",
   "language": "python",
   "name": "python3"
  },
  "language_info": {
   "codemirror_mode": {
    "name": "ipython",
    "version": 3
   },
   "file_extension": ".py",
   "mimetype": "text/x-python",
   "name": "python",
   "nbconvert_exporter": "python",
   "pygments_lexer": "ipython3",
   "version": "3.6.9"
  }
 },
 "nbformat": 4,
 "nbformat_minor": 4
}
