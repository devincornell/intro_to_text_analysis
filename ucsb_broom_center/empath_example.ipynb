{
 "cells": [
  {
   "cell_type": "code",
   "execution_count": 1,
   "metadata": {},
   "outputs": [],
   "source": [
    "import glob\n",
    "from empath import Empath\n",
    "lexicon = Empath()"
   ]
  },
  {
   "cell_type": "code",
   "execution_count": 2,
   "metadata": {},
   "outputs": [
    {
     "name": "stdout",
     "output_type": "stream",
     "text": [
      "read 10 texts.\n"
     ]
    }
   ],
   "source": [
    "filenames = glob.glob('test/*.txt')\n",
    "texts = list()\n",
    "for fname in filenames:\n",
    "    with open(fname,'r') as f:\n",
    "        texts.append(f.read())\n",
    "print('read', len(texts), 'texts.')"
   ]
  },
  {
   "cell_type": "code",
   "execution_count": 3,
   "metadata": {},
   "outputs": [
    {
     "name": "stdout",
     "output_type": "stream",
     "text": [
      "test/austen-emma.txt\n",
      "1464.0 756.0\n",
      "\n",
      "test/austen-persuasion.txt\n",
      "726.0 376.0\n",
      "\n",
      "test/austen-sense.txt\n",
      "1128.0 463.0\n",
      "\n",
      "test/bible-kjv.txt\n",
      "2837.0 2172.0\n",
      "\n",
      "test/blake-poems.txt\n",
      "56.0 22.0\n",
      "\n",
      "test/bryant-stories.txt\n",
      "257.0 268.0\n",
      "\n",
      "test/burgess-busterbrown.txt\n",
      "96.0 158.0\n",
      "\n",
      "test/carroll-alice.txt\n",
      "120.0 140.0\n",
      "\n",
      "test/chesterton-ball.txt\n",
      "321.0 568.0\n",
      "\n",
      "test/chesterton-brown.txt\n",
      "299.0 402.0\n",
      "\n"
     ]
    }
   ],
   "source": [
    "for fname,text in zip(filenames,texts):\n",
    "    cts = lexicon.analyze(text)\n",
    "    print(fname)\n",
    "    print(cts['positive_emotion'], cts['negative_emotion'])\n",
    "    print()"
   ]
  }
 ],
 "metadata": {
  "kernelspec": {
   "display_name": "Python 3",
   "language": "python",
   "name": "python3"
  },
  "language_info": {
   "codemirror_mode": {
    "name": "ipython",
    "version": 3
   },
   "file_extension": ".py",
   "mimetype": "text/x-python",
   "name": "python",
   "nbconvert_exporter": "python",
   "pygments_lexer": "ipython3",
   "version": "3.6.4"
  }
 },
 "nbformat": 4,
 "nbformat_minor": 2
}
