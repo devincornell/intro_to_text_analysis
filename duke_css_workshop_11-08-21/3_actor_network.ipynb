{
 "cells": [
  {
   "cell_type": "markdown",
   "metadata": {},
   "source": [
    "# Actor Networks"
   ]
  },
  {
   "cell_type": "code",
   "execution_count": 1,
   "metadata": {},
   "outputs": [],
   "source": [
    "import spacy\n",
    "from collections import Counter\n",
    "import networkx as nx\n",
    "nlp = spacy.load('en')"
   ]
  },
  {
   "cell_type": "code",
   "execution_count": 2,
   "metadata": {},
   "outputs": [
    {
     "data": {
      "text/plain": [
       "(400, 150)"
      ]
     },
     "execution_count": 2,
     "metadata": {},
     "output_type": "execute_result"
    }
   ],
   "source": [
    "def read_paragraphs(fname):\n",
    "    with open(fname, 'r') as f:\n",
    "        text = f.read()\n",
    "    paragraphs = [p for p in text.split('\\n\\n') if len(p) > 0]\n",
    "    return paragraphs\n",
    "\n",
    "trump_par_texts = read_paragraphs('nss/trump_nss.txt')\n",
    "obama_par_texts = read_paragraphs('nss/obama_nss.txt')\n",
    "#par_texts = trump_par_texts + obama_par_texts\n",
    "#k = len(trump_par_texts)\n",
    "#len(par_texts), len(trump_par_texts), len(obama_par_texts)\n",
    "len(trump_par_texts), len(obama_par_texts)"
   ]
  },
  {
   "cell_type": "markdown",
   "metadata": {},
   "source": [
    "## Functions to Extract Subject-Verb-Object Triplets"
   ]
  },
  {
   "cell_type": "code",
   "execution_count": 3,
   "metadata": {},
   "outputs": [],
   "source": [
    "def noun_verb_pairs(doc):\n",
    "    nounverbs = list()\n",
    "    for tok in doc:\n",
    "        if tok.dep_ == 'ROOT':\n",
    "            rel = (child_dep(tok,'nsubj'), tok, child_dep(tok,'dobj'))\n",
    "            nounverbs.append(rel)\n",
    "    return nounverbs\n",
    "\n",
    "def child_dep(tok, dep): # gets first child where child.dep_==dep.\n",
    "    for c in tok.children:\n",
    "        if c.dep_ == dep:\n",
    "            return c\n",
    "    return None"
   ]
  },
  {
   "cell_type": "markdown",
   "metadata": {},
   "source": [
    "## Function to Create Actor Network"
   ]
  },
  {
   "cell_type": "code",
   "execution_count": 4,
   "metadata": {},
   "outputs": [],
   "source": [
    "def add_node_rel(G, utok, vtok):\n",
    "    if utok is None or vtok is None:\n",
    "        return\n",
    "    \n",
    "    # add nodes with zero count\n",
    "    if utok.text not in G.nodes():\n",
    "        G.add_node(utok.text, typ=utok.dep_, ent=utok.ent_type_, ct=0)\n",
    "    if vtok.text not in G.nodes():\n",
    "        G.add_node(vtok.text, typ=vtok.dep_, ent=utok.ent_type_, ct=0)\n",
    "    \n",
    "    # add edge with zero weight if it doesn't exist\n",
    "    u,v = utok.text, vtok.text\n",
    "    if (u,v) not in G.edges():\n",
    "        G.add_edge(u, v, weight=0)\n",
    "    \n",
    "    # increment node counts and edge count\n",
    "    G.nodes[u]['ct'] += 1\n",
    "    G.nodes[v]['ct'] += 1\n",
    "    G[u][v]['weight'] += 1\n",
    "\n",
    "def actor_network(par_texts, nlp, min_node_ct=5):\n",
    "    G = nx.DiGraph()\n",
    "    for doc in nlp.pipe(par_texts):\n",
    "        # merge multi-word entities\n",
    "        for ent in doc.ents:\n",
    "            ent.merge(tag=ent.root.tag_, ent_type=ent.root.ent_type_)\n",
    "        \n",
    "        for subj, verb, obj in noun_verb_pairs(doc):\n",
    "            add_node_rel(G, subj,verb)\n",
    "            add_node_rel(G, verb,obj)\n",
    "            \n",
    "    # remove nodes that don't meet minimum count threshold\n",
    "    rm_nodes = list()\n",
    "    for n in G.nodes():\n",
    "        if G.nodes[n]['ct'] < min_node_ct:\n",
    "            rm_nodes.append(n)\n",
    "    G.remove_nodes_from(rm_nodes)\n",
    "            \n",
    "    return G"
   ]
  },
  {
   "cell_type": "code",
   "execution_count": 12,
   "metadata": {},
   "outputs": [
    {
     "data": {
      "text/plain": [
       "(975, 1262)"
      ]
     },
     "execution_count": 12,
     "metadata": {},
     "output_type": "execute_result"
    }
   ],
   "source": [
    "Gtrump = actor_network(trump_par_texts, nlp, min_node_ct=1)\n",
    "Gobama = actor_network(trump_par_texts, nlp, min_node_ct=1)\n",
    "len(Gtrump.nodes()), len(Gobama.edges())"
   ]
  },
  {
   "cell_type": "code",
   "execution_count": 13,
   "metadata": {},
   "outputs": [
    {
     "data": {
      "text/plain": [
       "(975, 975)"
      ]
     },
     "execution_count": 13,
     "metadata": {},
     "output_type": "execute_result"
    }
   ],
   "source": [
    "nx.adjacency_matrix(Gtrump).todense().shape"
   ]
  },
  {
   "cell_type": "code",
   "execution_count": 11,
   "metadata": {},
   "outputs": [
    {
     "data": {
      "text/plain": [
       "('America', {'typ': 'nsubj', 'ent': 'GPE', 'ct': 10})"
      ]
     },
     "execution_count": 11,
     "metadata": {},
     "output_type": "execute_result"
    }
   ],
   "source": [
    "list(Gtrump.nodes(data=True))[0]"
   ]
  },
  {
   "cell_type": "code",
   "execution_count": 7,
   "metadata": {},
   "outputs": [],
   "source": [
    "nx.write_gexf(Gtrump, 'trump.gexf')\n",
    "nx.write_gexf(Gobama, 'obama.gexf')"
   ]
  }
 ],
 "metadata": {
  "kernelspec": {
   "display_name": "Python 3",
   "language": "python",
   "name": "python3"
  },
  "language_info": {
   "codemirror_mode": {
    "name": "ipython",
    "version": 3
   },
   "file_extension": ".py",
   "mimetype": "text/x-python",
   "name": "python",
   "nbconvert_exporter": "python",
   "pygments_lexer": "ipython3",
   "version": "3.6.9"
  }
 },
 "nbformat": 4,
 "nbformat_minor": 4
}
